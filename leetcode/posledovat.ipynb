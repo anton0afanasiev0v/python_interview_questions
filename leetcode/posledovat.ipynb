{
 "cells": [
  {
   "cell_type": "markdown",
   "id": "e039f72a",
   "metadata": {},
   "source": [
    "3174. Clear Digits\n",
    "#Easy Topics\n",
    "\n",
    "You are given a string s.\n",
    "\n",
    "Your task is to remove all digits by doing this operation repeatedly:\n",
    "\n",
    "Delete the first digit and the closest non-digit character to its left.\n",
    "Return the resulting string after removing all digits.\n",
    "\n",
    "Note that the operation cannot be performed on a digit that does not have any non-digit character to its left.\n",
    "\n",
    " \n",
    "\n",
    "Example 1:\n",
    "```\n",
    "Input: s = \"abc\"\n",
    "Output: \"abc\"\n",
    "Explanation:\n",
    "\n",
    "There is no digit in the string.\n",
    "```\n",
    "Example 2:\n",
    "```\n",
    "Input: s = \"cb34\"\n",
    "Output: \"\"\n",
    "Explanation:\n",
    "First, we apply the operation on s[2], and s becomes \"c4\".\n",
    "Then we apply the operation on s[1], and s becomes \"\".\n",
    "```\n",
    " \n",
    "\n",
    "Constraints:\n",
    "\n",
    "1 <= s.length <= 100\n",
    "s consists only of lowercase English letters and digits.\n",
    "The input is generated such that it is possible to delete all digits."
   ]
  },
  {
   "cell_type": "code",
   "execution_count": 78,
   "id": "5bbbe579",
   "metadata": {},
   "outputs": [],
   "source": [
    "class Solution():\n",
    "    def clearDigits(self, s):\n",
    "        \"\"\"\n",
    "        :type s: str\n",
    "        :rtype: str\n",
    "        \"\"\"\n",
    "        stack = []\n",
    "        for char in s:\n",
    "            if char.isdigit():\n",
    "                # Если встретили цифру - удаляем последний элемент из стека (если он есть)\n",
    "                if stack:\n",
    "                    stack.pop()\n",
    "            else:\n",
    "                # Если не цифра - добавляем в стек\n",
    "                stack.append(char)\n",
    "        return ''.join(stack)"
   ]
  },
  {
   "cell_type": "code",
   "execution_count": 79,
   "id": "e8bcc968",
   "metadata": {},
   "outputs": [],
   "source": [
    "s = Solution()\n",
    "assert s.clearDigits(\"abc\") == \"abc\"\n",
    "assert s.clearDigits(\"cb34\") == \"\""
   ]
  },
  {
   "cell_type": "markdown",
   "id": "984b3d78",
   "metadata": {},
   "source": [
    "3110. Score of a String\n",
    "\n",
    "You are given a string s.\n",
    " \n",
    "The score of a string is defined as the sum of the absolute \n",
    "\n",
    "difference between the ASCII values of adjacent characters.\n",
    "\n",
    "Return the score of s.\n",
    "\n",
    "Example 1:\n",
    "```\n",
    "Input: s = \"hello\"\n",
    "Output: 13\n",
    "Explanation:\n",
    "\n",
    "The ASCII values of the characters in s are: 'h' = 104, 'e' = 101, 'l' = 108, 'o' = 111. So, the score of s would be |104 - 101| + |101 - 108| + |108 - 108| + |108 - 111| = 3 + 7 + 0 + 3 = 13.\n",
    "```\n",
    "\n",
    "Example 2:\n",
    "```\n",
    "Input: s = \"zaz\"\n",
    "Output: 50\n",
    "\n",
    "Explanation:\n",
    "The ASCII values of the characters in s are: 'z' = 122, 'a' = 97. So, the score of s would be |122 - 97| + |97 - 122| = 25 + 25 = 50.\n",
    "``\n"
   ]
  },
  {
   "cell_type": "code",
   "execution_count": 80,
   "id": "ee46c7be",
   "metadata": {},
   "outputs": [],
   "source": [
    "from functools import reduce\n",
    "\n",
    "class Solution():\n",
    "    \n",
    "    def scoreOfString(self, s) -> int:\n",
    "        \"\"\"\n",
    "        :type s: str\n",
    "        :rtype: int\n",
    "        \"\"\"    \n",
    "        ascii=[ord(x) for x in s]\n",
    "        score=sum([abs(ascii[i]-ascii[i+1]) for i in range(len(ascii)-1)])\n",
    "        return score\n",
    "\n",
    "    def scoreOfString(self, s) -> int:\n",
    "        \"\"\"\n",
    "        :type s: str\n",
    "        :rtype: int\n",
    "        \"\"\"\n",
    "        if len(s) < 2:\n",
    "            return 0\n",
    "        \n",
    "        # Using reduce with initial value 0\n",
    "        # We'll create a list of absolute differences between consecutive characters\n",
    "        # Then use reduce to sum them up\n",
    "        differences = [abs(ord(s[i]) - ord(s[i+1])) for i in range(len(s)-1)]\n",
    "        return reduce(lambda x, y: x + y, differences, 0)"
   ]
  },
  {
   "cell_type": "code",
   "execution_count": 81,
   "id": "e3fb8ab8",
   "metadata": {},
   "outputs": [],
   "source": [
    "s = Solution()\n",
    "assert s.scoreOfString(\"hello\") == 13\n",
    "assert s.scoreOfString(\"zaz\") == 50"
   ]
  },
  {
   "cell_type": "markdown",
   "id": "b180f2c5",
   "metadata": {},
   "source": [
    "2894. Разница делимых и неделимых сумм\n",
    "\n",
    "Вам даны положительные целые числа n и m.\n",
    "\n",
    "Определите два целых числа следующим образом:\n",
    "\n",
    "- num1: \n",
    "Сумма всех целых чисел в диапазоне [1, n] \n",
    "\n",
    "(оба включительно) которые есть неделимый к m.\n",
    "\n",
    "- num2: \n",
    "Сумма всех целых чисел в диапазоне [1, n] \n",
    "\n",
    "(оба включительно) которые есть делимый к m.\n",
    "\n",
    "Возвращаться целое число num1 - num2."
   ]
  },
  {
   "cell_type": "code",
   "execution_count": 82,
   "id": "9e28801c",
   "metadata": {},
   "outputs": [],
   "source": [
    "\n",
    "\n",
    "class Solution(object):\n",
    "    def differenceOfSums(self, n, m):\n",
    "        \"\"\"\n",
    "        :type n: int\n",
    "        :type m: int\n",
    "        :rtype: int\n",
    "        \"\"\"\n",
    "        sum_n = sum(list(filter(lambda x: x % m != 0,range(1, n+1)))) \n",
    "        sum_m = sum(list(filter(lambda x: x % m == 0,range(1, n+1)))) \n",
    "        return sum_n - sum_m"
   ]
  },
  {
   "cell_type": "code",
   "execution_count": 83,
   "id": "909994bd",
   "metadata": {},
   "outputs": [],
   "source": [
    "s = Solution()\n",
    "s.differenceOfSums(5, 3)\n",
    "assert s.differenceOfSums(10, 3) == 19\n",
    "assert s.differenceOfSums(5, 6) == 15\n",
    "assert s.differenceOfSums(5, 1) == -15\n"
   ]
  }
 ],
 "metadata": {
  "kernelspec": {
   "display_name": ".venv (3.12.3)",
   "language": "python",
   "name": "python3"
  },
  "language_info": {
   "codemirror_mode": {
    "name": "ipython",
    "version": 3
   },
   "file_extension": ".py",
   "mimetype": "text/x-python",
   "name": "python",
   "nbconvert_exporter": "python",
   "pygments_lexer": "ipython3",
   "version": "3.12.3"
  }
 },
 "nbformat": 4,
 "nbformat_minor": 5
}
