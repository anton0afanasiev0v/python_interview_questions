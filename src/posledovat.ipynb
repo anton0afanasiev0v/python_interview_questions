{
 "cells": [
  {
   "cell_type": "markdown",
   "id": "2e4b340b",
   "metadata": {},
   "source": [
    "### Что такое последовательность\n",
    "\n",
    "Последовательностью в Python называется итерабельный объект, который поддерживает эффективный доступ к элементам с использованием целочисленных индексов через специальный метод `__getitem__()` и поддерживает метод `__len__()`, который возвращает длину последовательности.\n",
    "К основным встроенным типам последовательностей относятся list, tuple, range, str и bytes.\n",
    "\n",
    "Последовательности также опционально могут реализовывать методы `count()`, `index()`, `__contains__()` и `__reversed__()` и другие."
   ]
  },
  {
   "cell_type": "markdown",
   "id": "259aaf3a",
   "metadata": {},
   "source": [
    "Список (list)\n",
    "Список — это изменяемый, упорядоченный и индексированный тип данных в Python."
   ]
  },
  {
   "cell_type": "code",
   "execution_count": 6,
   "id": "763caed6",
   "metadata": {},
   "outputs": [
    {
     "name": "stdout",
     "output_type": "stream",
     "text": [
      "мая\n"
     ]
    }
   ],
   "source": [
    "import datetime\n",
    "import locale\n",
    "\n",
    "# Устанавливаем локаль (например, для русского языка)\n",
    "locale.setlocale(locale.LC_TIME, 'ru_RU.UTF-8')  # Для Linux\n",
    "# locale.setlocale(locale.LC_TIME, 'Russian')     # Альтернатива для Windows\n",
    "\n",
    "current_month = datetime.datetime.now().strftime('%B')\n",
    "print(current_month)"
   ]
  },
  {
   "cell_type": "code",
   "execution_count": 1,
   "id": "51fd2eb9",
   "metadata": {},
   "outputs": [
    {
     "name": "stdout",
     "output_type": "stream",
     "text": [
      "[1, 2, 3, 4, 5]\n",
      "1\n",
      "3\n",
      "[10, 2, 3, 4, 5]\n",
      "[10, 2, 3, 4, 5, 6]\n",
      "6\n"
     ]
    }
   ],
   "source": [
    "# Пример списка\n",
    "my_list = [1, 2, 3, 4, 5]\n",
    "print(my_list)  # Вывод: [1, 2, 3, 4, 5]\n",
    "\n",
    "# Доступ к элементам по индексу\n",
    "print(my_list[0])  # Вывод: 1\n",
    "print(my_list[2])  # Вывод: 3\n",
    "\n",
    "# Изменение элемента\n",
    "my_list[0] = 10\n",
    "print(my_list)  # Вывод: [10, 2, 3, 4, 5]\n",
    "\n",
    "# Методы списка\n",
    "my_list.append(6)\n",
    "print(my_list)  # Вывод: [10, 2, 3, 4, 5, 6]\n",
    "print(len(my_list))  # Вывод: 6"
   ]
  },
  {
   "cell_type": "markdown",
   "id": "e632f238",
   "metadata": {},
   "source": [
    "Кортеж (tuple)\n",
    "Кортеж — это неизменяемый, упорядоченный и индексированный тип данных в Python."
   ]
  },
  {
   "cell_type": "code",
   "execution_count": 5,
   "id": "e36a8a16",
   "metadata": {},
   "outputs": [
    {
     "name": "stdout",
     "output_type": "stream",
     "text": [
      "(1, 2, 3, 4, 5)\n",
      "1\n",
      "3\n",
      "5\n",
      "(5, 2, 1, 4, 5)\n"
     ]
    }
   ],
   "source": [
    "# Пример кортежа\n",
    "my_tuple = (1, 2, 3, 4, 5)\n",
    "print(my_tuple)  # Вывод: (1, 2, 3, 4, 5)\n",
    "\n",
    "# Доступ к элементам по индексу\n",
    "print(my_tuple[0])  # Вывод: 1\n",
    "print(my_tuple[2])  # Вывод: 3\n",
    "\n",
    "# Методы кортежа\n",
    "print(len(my_tuple))  # Вывод: 5\n",
    "\n",
    "my_tuple = (5, 2, 1, 4, 5)\n",
    "print(my_tuple)  # Вывод: (1, 2, 3, 4, 5)\n"
   ]
  },
  {
   "cell_type": "markdown",
   "id": "62c88779",
   "metadata": {},
   "source": [
    "Диапазон (range)\n",
    "Диапазон представляет собой последовательность равномерно распределенных целых чисел."
   ]
  },
  {
   "cell_type": "code",
   "execution_count": 3,
   "id": "c52dd382",
   "metadata": {},
   "outputs": [
    {
     "name": "stdout",
     "output_type": "stream",
     "text": [
      "[0, 1, 2, 3, 4]\n",
      "[0, 2, 4, 6, 8]\n"
     ]
    }
   ],
   "source": [
    "# Пример диапазона\n",
    "my_range = range(5)  # Эквивалентно range(0, 5)\n",
    "print(list(my_range))  # Вывод: [0, 1, 2, 3, 4]\n",
    "\n",
    "# Диапазон с шагом\n",
    "my_range = range(0, 10, 2)  # Начало, конец, шаг\n",
    "print(list(my_range))  # Вывод: [0, 2, 4, 6, 8]"
   ]
  },
  {
   "cell_type": "markdown",
   "id": "2caba292",
   "metadata": {},
   "source": [
    "Строка (str)\n",
    "Строка представляет собой последовательность символов в Python."
   ]
  },
  {
   "cell_type": "code",
   "execution_count": 4,
   "id": "37b3125d",
   "metadata": {},
   "outputs": [
    {
     "name": "stdout",
     "output_type": "stream",
     "text": [
      "Hello, World!\n",
      "H\n",
      "W\n",
      "13\n"
     ]
    }
   ],
   "source": [
    "# Пример строки\n",
    "my_string = \"Hello, World!\"\n",
    "print(my_string)  # Вывод: Hello, World!\n",
    "\n",
    "# Доступ к элементам по индексу\n",
    "print(my_string[0])  # Вывод: H\n",
    "print(my_string[7])  # Вывод: W\n",
    "\n",
    "# Методы строки\n",
    "print(len(my_string))  # Вывод: 13"
   ]
  }
 ],
 "metadata": {
  "kernelspec": {
   "display_name": ".venv (3.12.3)",
   "language": "python",
   "name": "python3"
  },
  "language_info": {
   "codemirror_mode": {
    "name": "ipython",
    "version": 3
   },
   "file_extension": ".py",
   "mimetype": "text/x-python",
   "name": "python",
   "nbconvert_exporter": "python",
   "pygments_lexer": "ipython3",
   "version": "3.12.3"
  }
 },
 "nbformat": 4,
 "nbformat_minor": 5
}
